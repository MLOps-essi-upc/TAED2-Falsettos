{
 "cells": [
  {
   "cell_type": "markdown",
   "metadata": {},
   "source": [
    "## Download the raw data from the web\n",
    "This is a one-time operation if data wants to be updated. The data is downloaded from the [Kaggle competition](https://www.kaggle.com/c/competitive-data-science-predict-future-sales/data) and saved in the `data/raw` folder. "
   ]
  },
  {
   "cell_type": "code",
   "execution_count": 17,
   "metadata": {},
   "outputs": [],
   "source": [
    "import datasets\n",
    "from pathlib import Path\n",
    "import os"
   ]
  },
  {
   "cell_type": "code",
   "execution_count": 19,
   "metadata": {},
   "outputs": [],
   "source": [
    "audio_dataset = datasets.load_dataset('speech_commands','v0.02')"
   ]
  },
  {
   "cell_type": "markdown",
   "metadata": {},
   "source": [
    "Now we set the path to save the raw data."
   ]
  },
  {
   "cell_type": "code",
   "execution_count": 20,
   "metadata": {},
   "outputs": [],
   "source": [
    "cwd = os.getcwd()\n",
    "ROOT_DIR=os.path.abspath(os.path.join(cwd, os.pardir))"
   ]
  },
  {
   "cell_type": "markdown",
   "metadata": {},
   "source": [
    "Now we change format. "
   ]
  },
  {
   "cell_type": "code",
   "execution_count": 21,
   "metadata": {},
   "outputs": [
    {
     "name": "stdout",
     "output_type": "stream",
     "text": [
      "                                 file  \\\n",
      "0      backward/2356b88d_nohash_0.wav   \n",
      "1      backward/3291330e_nohash_3.wav   \n",
      "2      backward/b91b718c_nohash_3.wav   \n",
      "3      backward/85851131_nohash_1.wav   \n",
      "4      backward/244cc3a5_nohash_0.wav   \n",
      "...                               ...   \n",
      "84843      zero/5ba724a7_nohash_0.wav   \n",
      "84844      zero/93b62ffd_nohash_0.wav   \n",
      "84845      zero/8281a2a8_nohash_2.wav   \n",
      "84846      zero/3d9bbe2d_nohash_0.wav   \n",
      "84847      zero/5ebc1cda_nohash_2.wav   \n",
      "\n",
      "                                                   audio  label  is_unknown  \\\n",
      "0      {'bytes': b'RIFF$}\\x00\\x00WAVEfmt \\x10\\x00\\x00...     30        True   \n",
      "1      {'bytes': b'RIFF$}\\x00\\x00WAVEfmt \\x10\\x00\\x00...     30        True   \n",
      "2      {'bytes': b'RIFF$}\\x00\\x00WAVEfmt \\x10\\x00\\x00...     30        True   \n",
      "3      {'bytes': b'RIFF$}\\x00\\x00WAVEfmt \\x10\\x00\\x00...     30        True   \n",
      "4      {'bytes': b'RIFFpn\\x00\\x00WAVEfmt \\x10\\x00\\x00...     30        True   \n",
      "...                                                  ...    ...         ...   \n",
      "84843  {'bytes': b'RIFF$}\\x00\\x00WAVEfmt \\x10\\x00\\x00...     10        True   \n",
      "84844  {'bytes': b'RIFF$P\\x00\\x00WAVEfmt \\x10\\x00\\x00...     10        True   \n",
      "84845  {'bytes': b'RIFF$}\\x00\\x00WAVEfmt \\x10\\x00\\x00...     10        True   \n",
      "84846  {'bytes': b'RIFF$}\\x00\\x00WAVEfmt \\x10\\x00\\x00...     10        True   \n",
      "84847  {'bytes': b'RIFF$}\\x00\\x00WAVEfmt \\x10\\x00\\x00...     10        True   \n",
      "\n",
      "      speaker_id  utterance_id  \n",
      "0       2356b88d             0  \n",
      "1       3291330e             3  \n",
      "2       b91b718c             3  \n",
      "3       85851131             1  \n",
      "4       244cc3a5             0  \n",
      "...          ...           ...  \n",
      "84843   5ba724a7             0  \n",
      "84844   93b62ffd             0  \n",
      "84845   8281a2a8             2  \n",
      "84846   3d9bbe2d             0  \n",
      "84847   5ebc1cda             2  \n",
      "\n",
      "[84848 rows x 6 columns]\n",
      "                                file  \\\n",
      "0     backward/0d82fd99_nohash_2.wav   \n",
      "1     backward/4e6902d0_nohash_0.wav   \n",
      "2     backward/ef77b778_nohash_3.wav   \n",
      "3     backward/ce0cb033_nohash_1.wav   \n",
      "4     backward/30276d03_nohash_1.wav   \n",
      "...                              ...   \n",
      "9977      zero/57cb3575_nohash_2.wav   \n",
      "9978      zero/dca2797e_nohash_3.wav   \n",
      "9979      zero/56eb74ae_nohash_1.wav   \n",
      "9980      zero/3903b558_nohash_0.wav   \n",
      "9981      zero/264f471d_nohash_2.wav   \n",
      "\n",
      "                                                  audio  label  is_unknown  \\\n",
      "0     {'bytes': b'RIFF$}\\x00\\x00WAVEfmt \\x10\\x00\\x00...     30        True   \n",
      "1     {'bytes': b'RIFF$}\\x00\\x00WAVEfmt \\x10\\x00\\x00...     30        True   \n",
      "2     {'bytes': b'RIFF$}\\x00\\x00WAVEfmt \\x10\\x00\\x00...     30        True   \n",
      "3     {'bytes': b'RIFF$}\\x00\\x00WAVEfmt \\x10\\x00\\x00...     30        True   \n",
      "4     {'bytes': b'RIFF$}\\x00\\x00WAVEfmt \\x10\\x00\\x00...     30        True   \n",
      "...                                                 ...    ...         ...   \n",
      "9977  {'bytes': b'RIFF\\x0cz\\x00\\x00WAVEfmt \\x10\\x00\\...     10        True   \n",
      "9978  {'bytes': b'RIFF$}\\x00\\x00WAVEfmt \\x10\\x00\\x00...     10        True   \n",
      "9979  {'bytes': b'RIFF$}\\x00\\x00WAVEfmt \\x10\\x00\\x00...     10        True   \n",
      "9980  {'bytes': b'RIFF$}\\x00\\x00WAVEfmt \\x10\\x00\\x00...     10        True   \n",
      "9981  {'bytes': b'RIFF$}\\x00\\x00WAVEfmt \\x10\\x00\\x00...     10        True   \n",
      "\n",
      "     speaker_id  utterance_id  \n",
      "0      0d82fd99             2  \n",
      "1      4e6902d0             0  \n",
      "2      ef77b778             3  \n",
      "3      ce0cb033             1  \n",
      "4      30276d03             1  \n",
      "...         ...           ...  \n",
      "9977   57cb3575             2  \n",
      "9978   dca2797e             3  \n",
      "9979   56eb74ae             1  \n",
      "9980   3903b558             0  \n",
      "9981   264f471d             2  \n",
      "\n",
      "[9982 rows x 6 columns]\n",
      "                                file  \\\n",
      "0     backward/a6f2fd71_nohash_3.wav   \n",
      "1     backward/8fe67225_nohash_4.wav   \n",
      "2     backward/f2e59fea_nohash_4.wav   \n",
      "3     backward/87070229_nohash_2.wav   \n",
      "4     backward/5170b77f_nohash_4.wav   \n",
      "...                              ...   \n",
      "4885      zero/bb05582b_nohash_0.wav   \n",
      "4886      zero/1b4c9b89_nohash_3.wav   \n",
      "4887      zero/cfbedff9_nohash_0.wav   \n",
      "4888      zero/0fa1e7a9_nohash_2.wav   \n",
      "4889      zero/5170b77f_nohash_1.wav   \n",
      "\n",
      "                                                  audio  label  is_unknown  \\\n",
      "0     {'bytes': b'RIFF$}\\x00\\x00WAVEfmt \\x10\\x00\\x00...     30        True   \n",
      "1     {'bytes': b'RIFF$}\\x00\\x00WAVEfmt \\x10\\x00\\x00...     30        True   \n",
      "2     {'bytes': b'RIFF$}\\x00\\x00WAVEfmt \\x10\\x00\\x00...     30        True   \n",
      "3     {'bytes': b'RIFF$}\\x00\\x00WAVEfmt \\x10\\x00\\x00...     30        True   \n",
      "4     {'bytes': b'RIFF$}\\x00\\x00WAVEfmt \\x10\\x00\\x00...     30        True   \n",
      "...                                                 ...    ...         ...   \n",
      "4885  {'bytes': b'RIFF$}\\x00\\x00WAVEfmt \\x10\\x00\\x00...     10        True   \n",
      "4886  {'bytes': b'RIFF$}\\x00\\x00WAVEfmt \\x10\\x00\\x00...     10        True   \n",
      "4887  {'bytes': b'RIFF$}\\x00\\x00WAVEfmt \\x10\\x00\\x00...     10        True   \n",
      "4888  {'bytes': b'RIFF$}\\x00\\x00WAVEfmt \\x10\\x00\\x00...     10        True   \n",
      "4889  {'bytes': b'RIFF$}\\x00\\x00WAVEfmt \\x10\\x00\\x00...     10        True   \n",
      "\n",
      "     speaker_id  utterance_id  \n",
      "0      a6f2fd71             3  \n",
      "1      8fe67225             4  \n",
      "2      f2e59fea             4  \n",
      "3      87070229             2  \n",
      "4      5170b77f             4  \n",
      "...         ...           ...  \n",
      "4885   bb05582b             0  \n",
      "4886   1b4c9b89             3  \n",
      "4887   cfbedff9             0  \n",
      "4888   0fa1e7a9             2  \n",
      "4889   5170b77f             1  \n",
      "\n",
      "[4890 rows x 6 columns]\n"
     ]
    }
   ],
   "source": [
    "for split, dataset_split in audio_dataset.items():\n",
    "    dataset_split = dataset_split.to_pandas()\n",
    "    print(dataset_split)\n",
    "    dataset_split.to_pickle(ROOT_DIR+f'/data/{split}.pkl')"
   ]
  }
 ],
 "metadata": {
  "kernelspec": {
   "display_name": "Python 3",
   "language": "python",
   "name": "python3"
  },
  "language_info": {
   "codemirror_mode": {
    "name": "ipython",
    "version": 3
   },
   "file_extension": ".py",
   "mimetype": "text/x-python",
   "name": "python",
   "nbconvert_exporter": "python",
   "pygments_lexer": "ipython3",
   "version": "3.10.11"
  }
 },
 "nbformat": 4,
 "nbformat_minor": 2
}
