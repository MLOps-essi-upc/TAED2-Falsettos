{
 "cells": [
  {
   "cell_type": "markdown",
   "metadata": {},
   "source": [
    "## Get raw data sample from validation set"
   ]
  },
  {
   "cell_type": "code",
   "execution_count": 95,
   "metadata": {},
   "outputs": [],
   "source": [
    "import os\n",
    "\n",
    "import datasets\n",
    "\n",
    "import pandas as pd\n",
    "\n",
    "import numpy as np"
   ]
  },
  {
   "cell_type": "markdown",
   "metadata": {},
   "source": [
    "Set the path of the test set. "
   ]
  },
  {
   "cell_type": "code",
   "execution_count": 96,
   "metadata": {},
   "outputs": [],
   "source": [
    "path = os.getcwd()\n",
    "ROOT_DIR =  os.path.dirname(path)\n",
    "RAW_DATA_DIR = os.path.join(ROOT_DIR, 'data', 'raw')"
   ]
  },
  {
   "cell_type": "markdown",
   "metadata": {},
   "source": [
    "Load dataset and get a sample of the raw data."
   ]
  },
  {
   "cell_type": "code",
   "execution_count": 97,
   "metadata": {},
   "outputs": [
    {
     "name": "stdout",
     "output_type": "stream",
     "text": [
      "Dataset({\n",
      "    features: ['file', 'audio', 'label', 'is_unknown', 'speaker_id', 'utterance_id'],\n",
      "    num_rows: 1\n",
      "})\n",
      "['bed/605ed0ff_nohash_0.wav']\n",
      "<class 'numpy.ndarray'>\n",
      "[-0.00247192 -0.00704956 -0.00418091 ... -0.0005188   0.00076294\n",
      " -0.00012207]\n",
      "[20]\n"
     ]
    }
   ],
   "source": [
    "audio_dataset = datasets.load_from_disk(RAW_DATA_DIR)\n",
    "sample = audio_dataset[\"validation\"].select([333])\n",
    "print(sample)\n",
    "print(sample['file'])\n",
    "print(type(sample['audio'][0]['array']))\n",
    "print(sample['audio'][0]['array'])\n",
    "print(sample['label'])"
   ]
  },
  {
   "cell_type": "markdown",
   "metadata": {},
   "source": [
    "Store sample in a pandas dataframe file. This is chosen to preserve data structures (that may not happen in csv files)."
   ]
  },
  {
   "cell_type": "code",
   "execution_count": 101,
   "metadata": {},
   "outputs": [
    {
     "name": "stdout",
     "output_type": "stream",
     "text": [
      "                          file  \\\n",
      "0  [bed/605ed0ff_nohash_0.wav]   \n",
      "\n",
      "                                         audio_array label  \n",
      "0  [-0.002471923828125, -0.007049560546875, -0.00...  [20]  \n"
     ]
    }
   ],
   "source": [
    "d = {'file': [sample['file']], 'audio_array': [sample['audio'][0]['array']], 'label': [sample['label']]}\n",
    "df = pd.DataFrame(data=d)\n",
    "RAW_DATA_SAMPLE = os.path.join(ROOT_DIR, 'data', 'raw_sample_example', 'sample_example.pkl')\n",
    "df.to_pickle(RAW_DATA_SAMPLE)\n",
    "print(df)"
   ]
  },
  {
   "cell_type": "markdown",
   "metadata": {},
   "source": [
    "Make some checks on the data to ensure that it is correct."
   ]
  },
  {
   "cell_type": "code",
   "execution_count": 99,
   "metadata": {},
   "outputs": [
    {
     "name": "stdout",
     "output_type": "stream",
     "text": [
      "                          file  \\\n",
      "0  [bed/605ed0ff_nohash_0.wav]   \n",
      "\n",
      "                                         audio_array label  \n",
      "0  [-0.002471923828125, -0.007049560546875, -0.00...  [20]  \n"
     ]
    }
   ],
   "source": [
    "# Read the CSV file\n",
    "sample_df = pd.read_pickle('sample_example.pkl')\n",
    "print(sample_df)"
   ]
  },
  {
   "cell_type": "markdown",
   "metadata": {},
   "source": [
    "We can see how the audio array structure is preserved"
   ]
  },
  {
   "cell_type": "code",
   "execution_count": 100,
   "metadata": {},
   "outputs": [
    {
     "name": "stdout",
     "output_type": "stream",
     "text": [
      "<class 'numpy.ndarray'>\n"
     ]
    }
   ],
   "source": [
    "print(type(sample_df[\"audio_array\"][0]))"
   ]
  }
 ],
 "metadata": {
  "kernelspec": {
   "display_name": "Python 3",
   "language": "python",
   "name": "python3"
  },
  "language_info": {
   "codemirror_mode": {
    "name": "ipython",
    "version": 3
   },
   "file_extension": ".py",
   "mimetype": "text/x-python",
   "name": "python",
   "nbconvert_exporter": "python",
   "pygments_lexer": "ipython3",
   "version": "3.10.11"
  }
 },
 "nbformat": 4,
 "nbformat_minor": 2
}
