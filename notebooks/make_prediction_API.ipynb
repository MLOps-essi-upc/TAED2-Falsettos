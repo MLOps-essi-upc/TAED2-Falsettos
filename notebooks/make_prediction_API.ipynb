{
 "cells": [
  {
   "cell_type": "markdown",
   "metadata": {},
   "source": [
    "# Make prediction with API\n",
    "### 1. Make prediction on a dataset entry\n",
    "Here we will import a row in the dataset a make a prediction on it using the API. First we import the libraries and declare paths. We will use the stored raw data sample. We will also use the stored model."
   ]
  },
  {
   "cell_type": "code",
   "execution_count": 13,
   "metadata": {},
   "outputs": [
    {
     "name": "stdout",
     "output_type": "stream",
     "text": [
      "pygame 2.5.2 (SDL 2.28.3, Python 3.10.11)\n",
      "Hello from the pygame community. https://www.pygame.org/contribute.html\n"
     ]
    }
   ],
   "source": [
    "import pandas as pd\n",
    "import os\n",
    "import pygame\n",
    "import scipy.io.wavfile as wav\n",
    "pygame.init()\n",
    "\n",
    "ROOT_DIR =  os.path.dirname(os.getcwd())\n",
    "RAW_DATA_SAMPLE = os.path.join(ROOT_DIR, 'data', 'raw_sample_example', 'sample_example.pkl')"
   ]
  },
  {
   "cell_type": "markdown",
   "metadata": {},
   "source": [
    "Load dataset and get a sample of the raw data."
   ]
  },
  {
   "cell_type": "code",
   "execution_count": 14,
   "metadata": {},
   "outputs": [
    {
     "name": "stdout",
     "output_type": "stream",
     "text": [
      "                          file  \\\n",
      "0  [bed/605ed0ff_nohash_0.wav]   \n",
      "\n",
      "                                         audio_array label  \n",
      "0  [-0.002471923828125, -0.007049560546875, -0.00...  [20]  \n"
     ]
    }
   ],
   "source": [
    "# Read the CSV file\n",
    "sample_df = pd.read_pickle(RAW_DATA_SAMPLE)\n",
    "print(sample_df)"
   ]
  },
  {
   "cell_type": "markdown",
   "metadata": {},
   "source": [
    "Now we connect to the API. "
   ]
  },
  {
   "cell_type": "code",
   "execution_count": 17,
   "metadata": {},
   "outputs": [
    {
     "name": "stdout",
     "output_type": "stream",
     "text": [
      "Response was: OK\n",
      "Welcome to Speech Command Recognizer! Please, read the `/docs`!\n"
     ]
    }
   ],
   "source": [
    "import json\n",
    "import requests\n",
    "url = \"http://localhost:5000/\"\n",
    "url = \"http://nattech.fib.upc.edu:40441/\"\n",
    "response = json.loads(requests.get(url).text)\n",
    "print(\"Response was:\", response['message'])\n",
    "print(response['data']['message'])"
   ]
  },
  {
   "cell_type": "markdown",
   "metadata": {},
   "source": [
    "And make a prediction on the sample."
   ]
  },
  {
   "cell_type": "code",
   "execution_count": 18,
   "metadata": {},
   "outputs": [
    {
     "name": "stdout",
     "output_type": "stream",
     "text": [
      "Response was: OK\n",
      "The predicted label is: Bed\n"
     ]
    }
   ],
   "source": [
    "array_string = str(sample_df[\"audio_array\"][0].tobytes())\n",
    "response = json.loads(requests.post(url+'predict', json = {'audio_array': array_string}).text)\n",
    "print(\"Response was:\", response['message'])\n",
    "print(\"The predicted label is:\", response['data']['predicted_command'])"
   ]
  },
  {
   "cell_type": "markdown",
   "metadata": {},
   "source": [
    "### 2.Predict on a WAV file\n",
    "Now we will predict on a WAV file. We will use the same communication as before with API for prediction. You can add the desired WAV file to the folder and change the path to it."
   ]
  },
  {
   "cell_type": "code",
   "execution_count": 21,
   "metadata": {},
   "outputs": [],
   "source": [
    "AUDIO_DIR = os.path.join(ROOT_DIR, 'data', 'audio_examples')\n",
    "\n",
    "# Some examples. Try them all!\n",
    "#file_path = os.path.join(AUDIO_DIR, \"down.wav\")\n",
    "#file_path = os.path.join(AUDIO_DIR, \"bed_by_Jan.wav\")\n",
    "file_path = os.path.join(AUDIO_DIR, \"one_by_Armand.wav\")\n",
    "#file_path = os.path.join(AUDIO_DIR, \"wow_by_Sergio.wav\")\n",
    "\n",
    "# Read the WAV file\n",
    "sample_rate, audio_data = wav.read(file_path)\n",
    "assert sample_rate == 16000 # Audio must be 16 kHz\n",
    "audio_data = audio_data[0:16000]/32768  # Normalize the data"
   ]
  },
  {
   "cell_type": "markdown",
   "metadata": {},
   "source": [
    "Now we hear the audio."
   ]
  },
  {
   "cell_type": "code",
   "execution_count": 22,
   "metadata": {},
   "outputs": [
    {
     "data": {
      "text/plain": [
       "<pygame.mixer.Channel at 0x143bf520510>"
      ]
     },
     "execution_count": 22,
     "metadata": {},
     "output_type": "execute_result"
    }
   ],
   "source": [
    "my_sound = pygame.mixer.Sound(file_path)\n",
    "my_sound.play()"
   ]
  },
  {
   "cell_type": "markdown",
   "metadata": {},
   "source": [
    "We make the prediction based on API."
   ]
  },
  {
   "cell_type": "code",
   "execution_count": 23,
   "metadata": {},
   "outputs": [
    {
     "name": "stdout",
     "output_type": "stream",
     "text": [
      "Response was: OK\n",
      "The predicted label is: One\n"
     ]
    }
   ],
   "source": [
    "array_string = str(audio_data.tobytes())\n",
    "response = json.loads(requests.post(url+'predict', json = {'audio_array': array_string}).text)\n",
    "print(\"Response was:\", response['message'])\n",
    "print(\"The predicted label is:\", response['data']['predicted_command'])"
   ]
  }
 ],
 "metadata": {
  "kernelspec": {
   "display_name": "Python 3 (ipykernel)",
   "language": "python",
   "name": "python3"
  },
  "language_info": {
   "codemirror_mode": {
    "name": "ipython",
    "version": 3
   },
   "file_extension": ".py",
   "mimetype": "text/x-python",
   "name": "python",
   "nbconvert_exporter": "python",
   "pygments_lexer": "ipython3",
   "version": "3.10.11"
  }
 },
 "nbformat": 4,
 "nbformat_minor": 4
}
